{
 "cells": [
  {
   "cell_type": "code",
   "execution_count": 2,
   "metadata": {},
   "outputs": [],
   "source": [
    "import numpy as np\n",
    "from scipy.io import loadmat\n",
    "from scipy.optimize import minimize\n",
    "from sklearn import svm\n",
    "from sklearn.svm import SVC\n",
    "import matplotlib.pyplot as plt\n",
    "from mpl_toolkits.axes_grid1 import ImageGrid\n",
    "from sklearn.metrics import confusion_matrix\n",
    "from pylab import * "
   ]
  },
  {
   "cell_type": "code",
   "execution_count": 11,
   "metadata": {},
   "outputs": [],
   "source": [
    "def preprocess():\n",
    "    \"\"\" \n",
    "     Input:\n",
    "     Although this function doesn't have any input, you are required to load\n",
    "     the MNIST data set from file 'mnist_all.mat'.\n",
    "\n",
    "     Output:\n",
    "     train_data: matrix of training set. Each row of train_data contains \n",
    "       feature vector of a image\n",
    "     train_label: vector of label corresponding to each image in the training\n",
    "       set\n",
    "     validation_data: matrix of training set. Each row of validation_data \n",
    "       contains feature vector of a image\n",
    "     validation_label: vector of label corresponding to each image in the \n",
    "       training set\n",
    "     test_data: matrix of training set. Each row of test_data contains \n",
    "       feature vector of a image\n",
    "     test_label: vector of label corresponding to each image in the testing\n",
    "       set\n",
    "    \"\"\"\n",
    "\n",
    "    mat = loadmat('mnist_all.mat')  # loads the MAT object as a Dictionary\n",
    "\n",
    "    n_feature = mat.get(\"train1\").shape[1]\n",
    "    n_sample = 0\n",
    "    for i in range(10):\n",
    "        n_sample = n_sample + mat.get(\"train\" + str(i)).shape[0]\n",
    "    n_validation = 1000\n",
    "    n_train = n_sample - 10 * n_validation\n",
    "\n",
    "    # Construct validation data\n",
    "    validation_data = np.zeros((10 * n_validation, n_feature))\n",
    "    for i in range(10):\n",
    "        validation_data[i * n_validation:(i + 1) * n_validation, :] = mat.get(\"train\" + str(i))[0:n_validation, :]\n",
    "\n",
    "    # Construct validation label\n",
    "    validation_label = np.ones((10 * n_validation, 1))\n",
    "    for i in range(10):\n",
    "        validation_label[i * n_validation:(i + 1) * n_validation, :] = i * np.ones((n_validation, 1))\n",
    "\n",
    "    # Construct training data and label\n",
    "    train_data = np.zeros((n_train, n_feature))\n",
    "    train_label = np.zeros((n_train, 1))\n",
    "    temp = 0\n",
    "    for i in range(10):\n",
    "        size_i = mat.get(\"train\" + str(i)).shape[0]\n",
    "        train_data[temp:temp + size_i - n_validation, :] = mat.get(\"train\" + str(i))[n_validation:size_i, :]\n",
    "        train_label[temp:temp + size_i - n_validation, :] = i * np.ones((size_i - n_validation, 1))\n",
    "        temp = temp + size_i - n_validation\n",
    "\n",
    "    # Construct test data and label\n",
    "    n_test = 0\n",
    "    for i in range(10):\n",
    "        n_test = n_test + mat.get(\"test\" + str(i)).shape[0]\n",
    "    test_data = np.zeros((n_test, n_feature))\n",
    "    test_label = np.zeros((n_test, 1))\n",
    "    temp = 0\n",
    "    for i in range(10):\n",
    "        size_i = mat.get(\"test\" + str(i)).shape[0]\n",
    "        test_data[temp:temp + size_i, :] = mat.get(\"test\" + str(i))\n",
    "        test_label[temp:temp + size_i, :] = i * np.ones((size_i, 1))\n",
    "        temp = temp + size_i\n",
    "\n",
    "    # Delete features which don't provide any useful information for classifiers\n",
    "    sigma = np.std(train_data, axis=0)\n",
    "    index = np.array([])\n",
    "    for i in range(n_feature):\n",
    "        if (sigma[i] > 0.001):\n",
    "            index = np.append(index, [i])\n",
    "    train_data = train_data[:, index.astype(int)]\n",
    "    validation_data = validation_data[:, index.astype(int)]\n",
    "    test_data = test_data[:, index.astype(int)]\n",
    "\n",
    "    # Scale data to 0 and 1\n",
    "    train_data /= 255.0\n",
    "    validation_data /= 255.0\n",
    "    test_data /= 255.0\n",
    "\n",
    "    return train_data, train_label, validation_data, validation_label, test_data, test_label\n"
   ]
  },
  {
   "cell_type": "code",
   "execution_count": 12,
   "metadata": {},
   "outputs": [],
   "source": [
    "def sigmoid(z):\n",
    "    return 1.0 / (1.0 + np.exp(-z))"
   ]
  },
  {
   "cell_type": "code",
   "execution_count": 13,
   "metadata": {},
   "outputs": [],
   "source": [
    "def blrObjFunction(initialWeights, *args):\n",
    "    \"\"\"\n",
    "    blrObjFunction computes 2-class Logistic Regression error function and\n",
    "    its gradient.\n",
    "\n",
    "    Input:\n",
    "        initialWeights: the weight vector (w_k) of size (D + 1) x 1 \n",
    "        train_data: the data matrix of size N x D\n",
    "        labeli: the label vector (y_k) of size N x 1 where each entry can be either 0 or 1 representing the label of corresponding feature vector\n",
    "\n",
    "    Output: \n",
    "        error: the scalar value of error function of 2-class logistic regression\n",
    "        error_grad: the vector of size (D+1) x 1 representing the gradient of\n",
    "                    error function\n",
    "    \"\"\"\n",
    "    train_data, labeli = args\n",
    "\n",
    "    n_data = train_data.shape[0]\n",
    "    n_features = train_data.shape[1]\n",
    "    error = 0\n",
    "    error_grad = np.zeros((n_features + 1, 1))\n",
    "\n",
    "    ##################\n",
    "    # YOUR CODE HERE #\n",
    "    ##################\n",
    "    # HINT: Do not forget to add the bias term to your input data\n",
    "    \n",
    "    #adding Bias Term\n",
    "    biasTerm = np.ones((train_data.shape[0],1))\n",
    "    inputWithBias = np.concatenate((biasTerm, train_data), axis = 1)\n",
    "    W = initialWeights.reshape(inputWithBias.shape[1],1)\n",
    "                                   \n",
    "    theta = np.zeros((inputWithBias.shape[0],1))\n",
    "    theta = sigmoid(np.dot(inputWithBias,W))\n",
    "    logTheta = np.log(theta)\n",
    "    y=np.dot(labeli.transpose(),logTheta)\n",
    "    \n",
    "    # Calculating error from formula\n",
    "    error_part1 =  np.dot(labeli.transpose(), logTheta)\n",
    "    error_part2 = np.dot(np.subtract(1.0,labeli).transpose(), np.log(np.subtract(1.0,theta)))\n",
    "    error = np.sum(error_part1 + error_part2)\n",
    "    error = (-error)/inputWithBias.shape[0]\n",
    "    \n",
    "    #Calculating error_grad from formula\n",
    "    error_grad = np.dot(inputWithBias.transpose(), (theta - labeli))\n",
    "    error_grad = (error_grad)/inputWithBias.shape[0]\n",
    "                                   \n",
    "    return error, error_grad.flatten()"
   ]
  },
  {
   "cell_type": "code",
   "execution_count": 14,
   "metadata": {},
   "outputs": [],
   "source": [
    "def blrPredict(W, data):\n",
    "    \"\"\"\n",
    "     blrObjFunction predicts the label of data given the data and parameter W \n",
    "     of Logistic Regression\n",
    "     \n",
    "     Input:\n",
    "         W: the matrix of weight of size (D + 1) x 10. Each column is the weight \n",
    "         vector of a Logistic Regression classifier.\n",
    "         X: the data matrix of size N x D\n",
    "         \n",
    "     Output: \n",
    "         label: vector of size N x 1 representing the predicted label of \n",
    "         corresponding feature vector given in data matrix\n",
    "\n",
    "    \"\"\"\n",
    "    label = np.zeros((data.shape[0], 1))\n",
    "\n",
    "    ##################\n",
    "    # YOUR CODE HERE #\n",
    "    ##################\n",
    "    # HINT: Do not forget to add the bias term to your input data\n",
    "    \n",
    "    biasTerm = np.ones((data.shape[0],1))\n",
    "    dataWithBias = np.concatenate((biasTerm, data), axis = 1)\n",
    "    predict_labels = np.zeros((dataWithBias.shape[0],10))\n",
    "    predict_labels = sigmoid(np.dot(dataWithBias,W))\n",
    "    \n",
    "    # use argmax and find the lable with the max value\n",
    "    label = np.argmax(predict_labels, axis =1)\n",
    "    label = label.reshape(data.shape[0],1)\n",
    "\n",
    "    return label"
   ]
  },
  {
   "cell_type": "code",
   "execution_count": 15,
   "metadata": {},
   "outputs": [],
   "source": [
    "def mlrObjFunction(params, *args):\n",
    "    \"\"\"\n",
    "    mlrObjFunction computes multi-class Logistic Regression error function and\n",
    "    its gradient.\n",
    "\n",
    "    Input:\n",
    "        initialWeights_b: the weight vector of size (D + 1) x 10\n",
    "        train_data: the data matrix of size N x D\n",
    "        labeli: the label vector of size N x 1 where each entry can be either 0 or 1\n",
    "                representing the label of corresponding feature vector\n",
    "\n",
    "    Output:\n",
    "        error: the scalar value of error function of multi-class logistic regression\n",
    "        error_grad: the vector of size (D+1) x 10 representing the gradient of\n",
    "                    error function\n",
    "    \"\"\"\n",
    "    \n",
    "    train_data, labeli = args\n",
    "    n_data = train_data.shape[0]\n",
    "    n_feature = train_data.shape[1]\n",
    "    error = 0\n",
    "    error_grad = np.zeros((n_feature + 1, n_class))\n",
    "    n_labels = labeli.shape[1]\n",
    "    \n",
    "    ##################\n",
    "    # YOUR CODE HERE #\n",
    "    ##################\n",
    "    # HINT: Do not forget to add the bias term to your input data\n",
    "    biasTerm = np.ones((n_data,1))\n",
    "    inputWithBias = np.concatenate((biasTerm, train_data), axis = 1)\n",
    "    \n",
    "    # reshape the weights and find exp\n",
    "    W_b = np.reshape(params,(n_feature + 1, n_labels))\n",
    "    exp = np.exp(np.dot(inputWithBias, W_b))\n",
    "    exp_sum = np.sum(exp, axis=1)\n",
    "    theta_nk = np.transpose(np.divide(np.transpose(exp), exp_sum))\n",
    "\n",
    "\n",
    "    # Find the error\n",
    "    error = np.multiply(labeli, np.log(theta_nk))\n",
    "    error = -1 * np.sum(error)\n",
    "    \n",
    "    \n",
    "    # Find the error gradient\n",
    "    error_grad = np.zeros((n_feature + 1, 10))\n",
    "    error_grad = np.dot(np.transpose(inputWithBias), (theta_nk - labeli)).flatten()\n",
    "    \n",
    "    return error, error_grad"
   ]
  },
  {
   "cell_type": "code",
   "execution_count": 16,
   "metadata": {},
   "outputs": [],
   "source": [
    "def mlrPredict(W, data):\n",
    "    \"\"\"\n",
    "     mlrObjFunction predicts the label of data given the data and parameter W\n",
    "     of Logistic Regression\n",
    "\n",
    "     Input:\n",
    "         W: the matrix of weight of size (D + 1) x 10. Each column is the weight\n",
    "         vector of a Logistic Regression classifier.\n",
    "         X: the data matrix of size N x D\n",
    "\n",
    "     Output:\n",
    "         label: vector of size N x 1 representing the predicted label of\n",
    "         corresponding feature vector given in data matrix\n",
    "\n",
    "    \"\"\"\n",
    "    label = np.zeros((data.shape[0], 1))\n",
    "\n",
    "    ##################\n",
    "    # YOUR CODE HERE #\n",
    "    ##################\n",
    "    # HINT: Do not forget to add the bias term to your input data\n",
    "\n",
    "    n_data = data.shape[0]\n",
    "    biasTerm = np.ones((n_data,1))\n",
    "    dataWithBias = np.concatenate((biasTerm, data), axis = 1)\n",
    "    predict_labels = np.zeros((n_data,10))\n",
    "    \n",
    "    exp = np.exp(np.dot(dataWithBias, W))\n",
    "    exp_sum = np.sum(exp, axis=1)\n",
    "    theta_nk = np.transpose(np.divide(np.transpose(exp), exp_sum))\n",
    "    \n",
    "    label = np.argmax(theta_nk, 1)\n",
    "    \n",
    "    # converting to a column vector\n",
    "    label = label.reshape(n_data,1)\n",
    "    \n",
    "    return label"
   ]
  },
  {
   "cell_type": "code",
   "execution_count": 17,
   "metadata": {},
   "outputs": [],
   "source": [
    "train_data, train_label, validation_data, validation_label, test_data, test_label = preprocess()\n",
    "\n",
    "# number of classes\n",
    "n_class = 10\n",
    "\n",
    "# number of training samples\n",
    "n_train = train_data.shape[0]\n",
    "\n",
    "# number of features\n",
    "n_feature = train_data.shape[1]\n",
    "\n",
    "Y = np.zeros((n_train, n_class))\n",
    "for i in range(n_class):\n",
    "    Y[:, i] = (train_label == i).astype(int).ravel()"
   ]
  },
  {
   "cell_type": "code",
   "execution_count": 18,
   "metadata": {},
   "outputs": [
    {
     "name": "stdout",
     "output_type": "stream",
     "text": [
      "One-vs-all Logistic Regression\n",
      "\n",
      " Training set Accuracy:92.744%\n",
      "\n",
      " Validation set Accuracy:91.42%\n",
      "\n",
      " Testing set Accuracy:91.95%\n"
     ]
    }
   ],
   "source": [
    "\"\"\"\n",
    "Script for Logistic Regression\n",
    "\"\"\"\n",
    "\n",
    "# Logistic Regression with Gradient Descent\n",
    "print (\"One-vs-all Logistic Regression\")\n",
    "W = np.zeros((n_feature + 1, n_class))\n",
    "initialWeights = np.zeros((n_feature + 1, 1))\n",
    "opts = {'maxiter': 100}\n",
    "for i in range(n_class):\n",
    "    labeli = Y[:, i].reshape(n_train, 1)\n",
    "    args = (train_data, labeli)\n",
    "    nn_params = minimize(blrObjFunction, initialWeights, jac=True, args=args, method='CG', options=opts)\n",
    "    W[:, i] = nn_params.x.reshape((n_feature + 1,))\n",
    "\n",
    "# Find the accuracy on Training Datase\n",
    "predicted_label = blrPredict(W, train_data)\n",
    "print('\\n Training set Accuracy:' + str(100 * np.mean((predicted_label == train_label).astype(float))) + '%')\n",
    "\n",
    "# Find the accuracy on Validation Dataset\n",
    "predicted_label = blrPredict(W, validation_data)\n",
    "print('\\n Validation set Accuracy:' + str(100 * np.mean((predicted_label == validation_label).astype(float))) + '%')\n",
    "\n",
    "# Find the accuracy on Testing Dataset\n",
    "predicted_label = blrPredict(W, test_data)\n",
    "print('\\n Testing set Accuracy:' + str(100 * np.mean((predicted_label == test_label).astype(float))) + '%')\n"
   ]
  },
  {
   "cell_type": "code",
   "execution_count": 27,
   "metadata": {},
   "outputs": [
    {
     "data": {
      "image/png": "[encoded data removed]",
      "text/plain": [
       "<Figure size 756x468 with 8 Axes>"
      ]
     },
     "metadata": {
      "needs_background": "light"
     },
     "output_type": "display_data"
    }
   ],
   "source": [
    "# Find the accuracy on Training Dataset\n",
    "predicted_label = blrPredict(W, train_data)\n",
    "plotConfusionMatrix(train_label,predicted_label,\"Confusion Matrix of Training Data\")\n"
   ]
  },
  {
   "cell_type": "code",
   "execution_count": 28,
   "metadata": {},
   "outputs": [
    {
     "data": {
      "image/png": "[encoded data removed]",
      "text/plain": [
       "<Figure size 756x468 with 8 Axes>"
      ]
     },
     "metadata": {
      "needs_background": "light"
     },
     "output_type": "display_data"
    }
   ],
   "source": [
    "# Find the accuracy on Validation Dataset\n",
    "predicted_label = blrPredict(W, validation_data)\n",
    "plotConfusionMatrix(validation_label,predicted_label,\"Confusion Matrix of Validation Data\")"
   ]
  },
  {
   "cell_type": "code",
   "execution_count": 23,
   "metadata": {},
   "outputs": [
    {
     "data": {
      "image/png": "[encoded data removed]",
      "text/plain": [
       "<Figure size 756x468 with 8 Axes>"
      ]
     },
     "metadata": {
      "needs_background": "light"
     },
     "output_type": "display_data"
    }
   ],
   "source": [
    "# Find the accuracy on Testing Dataset\n",
    "predicted_label = blrPredict(W, test_data)\n",
    "plotConfusionMatrix(test_label,predicted_label,\"Confusion Matrix of Testing Data\")"
   ]
  },
  {
   "cell_type": "code",
   "execution_count": 13,
   "metadata": {},
   "outputs": [
    {
     "name": "stdout",
     "output_type": "stream",
     "text": [
      "Multi-class Logistic Regression\n",
      "\n",
      " Training set Accuracy:93.11%\n",
      "\n",
      " Validation set Accuracy:92.38%\n",
      "\n",
      " Testing set Accuracy:92.53%\n"
     ]
    }
   ],
   "source": [
    "\"\"\"\n",
    "Script for Extra Credit Part\n",
    "\"\"\"\n",
    "# FOR EXTRA CREDIT ONLY\n",
    "W_b = np.zeros((n_feature + 1, n_class))\n",
    "initialWeights_b = np.zeros((n_feature + 1, n_class))\n",
    "opts_b = {'maxiter': 100}\n",
    "\n",
    "print (\"Multi-class Logistic Regression\")\n",
    "args_b = (train_data, Y)\n",
    "nn_params = minimize(mlrObjFunction, initialWeights_b, jac=True, args=args_b, method='CG', options=opts_b)\n",
    "W_b = nn_params.x.reshape((n_feature + 1, n_class))\n",
    "\n",
    "# Find the accuracy on Training Dataset\n",
    "predicted_label_b = mlrPredict(W_b, train_data)\n",
    "print('\\n Training set Accuracy:' + str(100 * np.mean((predicted_label_b == train_label).astype(float))) + '%')\n",
    "\n",
    "# Find the accuracy on Validation Dataset\n",
    "predicted_label_b = mlrPredict(W_b, validation_data)\n",
    "print('\\n Validation set Accuracy:' + str(100 * np.mean((predicted_label_b == validation_label).astype(float))) + '%')\n",
    "\n",
    "# Find the accuracy on Testing Dataset\n",
    "predicted_label_b = mlrPredict(W_b, test_data)\n",
    "print('\\n Testing set Accuracy:' + str(100 * np.mean((predicted_label_b == test_label).astype(float))) + '%')"
   ]
  },
  {
   "cell_type": "code",
   "execution_count": 50,
   "metadata": {},
   "outputs": [
    {
     "name": "stdout",
     "output_type": "stream",
     "text": [
      "\n",
      "\n",
      "--------------SVM-------------------\n",
      "\n",
      "\n",
      "SVM\n",
      "Linear Kernel\n",
      "Training Accuracy:   99.69%\n",
      "Test Accuracy:       92.21000000000001%\n",
      "Validation Accuracy: 91.86999999999999%\n",
      "\n",
      "\n",
      "Gamma\n",
      "\n",
      "Training Accuracy:   100.0%\n",
      "Test Accuracy:       19.139999999999997%\n",
      "Validation Accuracy: 18.4%\n",
      "\n",
      "\n",
      "RBF Kernel \n",
      "\n"
     ]
    },
    {
     "name": "stderr",
     "output_type": "stream",
     "text": [
      "/usr/local/lib/python3.7/site-packages/sklearn/svm/base.py:196: FutureWarning: The default value of gamma will change from 'auto' to 'scale' in version 0.22 to account better for unscaled features. Set gamma explicitly to 'auto' or 'scale' to avoid this warning.\n",
      "  \"avoid this warning.\", FutureWarning)\n"
     ]
    },
    {
     "name": "stdout",
     "output_type": "stream",
     "text": [
      "Training Accuracy:   92.7%\n",
      "Test Accuracy:       92.25%\n",
      "Validation Accuracy: 92.01%\n",
      "---------------------------------------------------\n",
      "Doing for C-Value:  1\n"
     ]
    },
    {
     "name": "stderr",
     "output_type": "stream",
     "text": [
      "/usr/local/lib/python3.7/site-packages/sklearn/svm/base.py:196: FutureWarning: The default value of gamma will change from 'auto' to 'scale' in version 0.22 to account better for unscaled features. Set gamma explicitly to 'auto' or 'scale' to avoid this warning.\n",
      "  \"avoid this warning.\", FutureWarning)\n"
     ]
    },
    {
     "name": "stdout",
     "output_type": "stream",
     "text": [
      "CLF Fitting Done!\n",
      "Training Accuracy:    92.7 %\n",
      "Testing Accuracy:     92.25 %\n",
      "Validation Accuracy:  92.01 %\n",
      "---------------------------------------------------\n",
      "Doing for C-Value:  10\n"
     ]
    },
    {
     "name": "stderr",
     "output_type": "stream",
     "text": [
      "/usr/local/lib/python3.7/site-packages/sklearn/svm/base.py:196: FutureWarning: The default value of gamma will change from 'auto' to 'scale' in version 0.22 to account better for unscaled features. Set gamma explicitly to 'auto' or 'scale' to avoid this warning.\n",
      "  \"avoid this warning.\", FutureWarning)\n"
     ]
    },
    {
     "name": "stdout",
     "output_type": "stream",
     "text": [
      "CLF Fitting Done!\n",
      "Training Accuracy:    96.72 %\n",
      "Testing Accuracy:     94.47 %\n",
      "Validation Accuracy:  94.08 %\n",
      "---------------------------------------------------\n",
      "Doing for C-Value:  20\n"
     ]
    },
    {
     "name": "stderr",
     "output_type": "stream",
     "text": [
      "/usr/local/lib/python3.7/site-packages/sklearn/svm/base.py:196: FutureWarning: The default value of gamma will change from 'auto' to 'scale' in version 0.22 to account better for unscaled features. Set gamma explicitly to 'auto' or 'scale' to avoid this warning.\n",
      "  \"avoid this warning.\", FutureWarning)\n"
     ]
    },
    {
     "name": "stdout",
     "output_type": "stream",
     "text": [
      "CLF Fitting Done!\n",
      "Training Accuracy:    97.89999999999999 %\n",
      "Testing Accuracy:     94.67 %\n",
      "Validation Accuracy:  94.6 %\n",
      "---------------------------------------------------\n",
      "Doing for C-Value:  30\n"
     ]
    },
    {
     "name": "stderr",
     "output_type": "stream",
     "text": [
      "/usr/local/lib/python3.7/site-packages/sklearn/svm/base.py:196: FutureWarning: The default value of gamma will change from 'auto' to 'scale' in version 0.22 to account better for unscaled features. Set gamma explicitly to 'auto' or 'scale' to avoid this warning.\n",
      "  \"avoid this warning.\", FutureWarning)\n"
     ]
    },
    {
     "name": "stdout",
     "output_type": "stream",
     "text": [
      "CLF Fitting Done!\n",
      "Training Accuracy:    98.53 %\n",
      "Testing Accuracy:     94.95 %\n",
      "Validation Accuracy:  94.78999999999999 %\n",
      "---------------------------------------------------\n",
      "Doing for C-Value:  40\n"
     ]
    },
    {
     "name": "stderr",
     "output_type": "stream",
     "text": [
      "/usr/local/lib/python3.7/site-packages/sklearn/svm/base.py:196: FutureWarning: The default value of gamma will change from 'auto' to 'scale' in version 0.22 to account better for unscaled features. Set gamma explicitly to 'auto' or 'scale' to avoid this warning.\n",
      "  \"avoid this warning.\", FutureWarning)\n"
     ]
    },
    {
     "name": "stdout",
     "output_type": "stream",
     "text": [
      "CLF Fitting Done!\n",
      "Training Accuracy:    99.07000000000001 %\n",
      "Testing Accuracy:     94.98 %\n",
      "Validation Accuracy:  94.89 %\n",
      "---------------------------------------------------\n",
      "Doing for C-Value:  50\n"
     ]
    },
    {
     "name": "stderr",
     "output_type": "stream",
     "text": [
      "/usr/local/lib/python3.7/site-packages/sklearn/svm/base.py:196: FutureWarning: The default value of gamma will change from 'auto' to 'scale' in version 0.22 to account better for unscaled features. Set gamma explicitly to 'auto' or 'scale' to avoid this warning.\n",
      "  \"avoid this warning.\", FutureWarning)\n"
     ]
    },
    {
     "name": "stdout",
     "output_type": "stream",
     "text": [
      "CLF Fitting Done!\n",
      "Training Accuracy:    99.26 %\n",
      "Testing Accuracy:     95.1 %\n",
      "Validation Accuracy:  94.88 %\n",
      "---------------------------------------------------\n",
      "Doing for C-Value:  60\n"
     ]
    },
    {
     "name": "stderr",
     "output_type": "stream",
     "text": [
      "/usr/local/lib/python3.7/site-packages/sklearn/svm/base.py:196: FutureWarning: The default value of gamma will change from 'auto' to 'scale' in version 0.22 to account better for unscaled features. Set gamma explicitly to 'auto' or 'scale' to avoid this warning.\n",
      "  \"avoid this warning.\", FutureWarning)\n"
     ]
    },
    {
     "name": "stdout",
     "output_type": "stream",
     "text": [
      "CLF Fitting Done!\n",
      "Training Accuracy:    99.5 %\n",
      "Testing Accuracy:     95.1 %\n",
      "Validation Accuracy:  94.81 %\n",
      "---------------------------------------------------\n",
      "Doing for C-Value:  70\n"
     ]
    },
    {
     "name": "stderr",
     "output_type": "stream",
     "text": [
      "/usr/local/lib/python3.7/site-packages/sklearn/svm/base.py:196: FutureWarning: The default value of gamma will change from 'auto' to 'scale' in version 0.22 to account better for unscaled features. Set gamma explicitly to 'auto' or 'scale' to avoid this warning.\n",
      "  \"avoid this warning.\", FutureWarning)\n"
     ]
    },
    {
     "name": "stdout",
     "output_type": "stream",
     "text": [
      "CLF Fitting Done!\n",
      "Training Accuracy:    99.65 %\n",
      "Testing Accuracy:     95.06 %\n",
      "Validation Accuracy:  94.84 %\n",
      "---------------------------------------------------\n",
      "Doing for C-Value:  80\n"
     ]
    },
    {
     "name": "stderr",
     "output_type": "stream",
     "text": [
      "/usr/local/lib/python3.7/site-packages/sklearn/svm/base.py:196: FutureWarning: The default value of gamma will change from 'auto' to 'scale' in version 0.22 to account better for unscaled features. Set gamma explicitly to 'auto' or 'scale' to avoid this warning.\n",
      "  \"avoid this warning.\", FutureWarning)\n"
     ]
    },
    {
     "name": "stdout",
     "output_type": "stream",
     "text": [
      "CLF Fitting Done!\n",
      "Training Accuracy:    99.72999999999999 %\n",
      "Testing Accuracy:     95.04 %\n",
      "Validation Accuracy:  94.8 %\n",
      "---------------------------------------------------\n",
      "Doing for C-Value:  90\n"
     ]
    },
    {
     "name": "stderr",
     "output_type": "stream",
     "text": [
      "/usr/local/lib/python3.7/site-packages/sklearn/svm/base.py:196: FutureWarning: The default value of gamma will change from 'auto' to 'scale' in version 0.22 to account better for unscaled features. Set gamma explicitly to 'auto' or 'scale' to avoid this warning.\n",
      "  \"avoid this warning.\", FutureWarning)\n"
     ]
    },
    {
     "name": "stdout",
     "output_type": "stream",
     "text": [
      "CLF Fitting Done!\n",
      "Training Accuracy:    99.82 %\n",
      "Testing Accuracy:     94.95 %\n",
      "Validation Accuracy:  94.95 %\n",
      "---------------------------------------------------\n",
      "Doing for C-Value:  100\n"
     ]
    },
    {
     "name": "stderr",
     "output_type": "stream",
     "text": [
      "/usr/local/lib/python3.7/site-packages/sklearn/svm/base.py:196: FutureWarning: The default value of gamma will change from 'auto' to 'scale' in version 0.22 to account better for unscaled features. Set gamma explicitly to 'auto' or 'scale' to avoid this warning.\n",
      "  \"avoid this warning.\", FutureWarning)\n"
     ]
    },
    {
     "name": "stdout",
     "output_type": "stream",
     "text": [
      "CLF Fitting Done!\n",
      "Training Accuracy:    99.86 %\n",
      "Testing Accuracy:     94.89 %\n",
      "Validation Accuracy:  94.99 %\n",
      "---------------------------------------------------\n"
     ]
    }
   ],
   "source": [
    "\"\"\"\n",
    "Script for Support Vector Machine\n",
    "\"\"\"\n",
    "\n",
    "print('\\n\\n--------------SVM-------------------\\n\\n')\n",
    "##################\n",
    "# YOUR CODE HERE #\n",
    "##################\n",
    "\n",
    "svm_train_data = np.zeros((10000, train_data.shape[1]))\n",
    "svm_train_label = np.zeros((10000, train_label.shape[1]))\n",
    "\n",
    "start_index = [0, 4923, 10665, 15623, 20754, 25596, 30017, 34938, 40200, 45051]\n",
    "start = 0\n",
    "end = 1000\n",
    "for i in range(len(start_index)):\n",
    "    svm_train_label[start: end] = train_label[ start_index[i]: start_index[i]+1000 ]\n",
    "    svm_train_data[start: end] = train_data[ start_index[i]: start_index[i]+1000 ]\n",
    "    start = start + 1000\n",
    "    end = end + 1000\n",
    "\n",
    "print('SVM\\nLinear Kernel');\n",
    "svm_train_label = np.squeeze(svm_train_label)\n",
    "clf = SVC(kernel = 'linear')\n",
    "clf.fit(svm_train_data, svm_train_label)\n",
    "print(\"Training Accuracy:   \"+str(100*clf.score(svm_train_data, svm_train_label))+\"%\")\n",
    "print(\"Test Accuracy:       \"+str(100*clf.score(test_data, test_label))+\"%\")\n",
    "print(\"Validation Accuracy: \"+str(100*clf.score(validation_data, validation_label))+\"%\")\n",
    "\n",
    "print (\"\\n\\nGamma\\n\");\n",
    "clf = SVC(kernel='rbf',gamma = 1)\n",
    "clf.fit(svm_train_data, svm_train_label)\n",
    "print(\"Training Accuracy:   \"+str(100*clf.score(svm_train_data, svm_train_label))+\"%\")\n",
    "print(\"Test Accuracy:       \"+str(100*clf.score(test_data, test_label))+\"%\")\n",
    "print(\"Validation Accuracy: \"+str(100*clf.score(validation_data, validation_label))+\"%\")\n",
    "\n",
    "print (\"\\n\\nRBF Kernel \\n\");\n",
    "clf = SVC(kernel = 'rbf')\n",
    "clf.fit(svm_train_data, svm_train_label)\n",
    "print(\"Training Accuracy:   \"+str(100*clf.score(svm_train_data, svm_train_label))+\"%\")\n",
    "print(\"Test Accuracy:       \"+str(100*clf.score(test_data, test_label))+\"%\")\n",
    "print(\"Validation Accuracy: \"+str(100*clf.score(validation_data, validation_label))+\"%\")\n",
    "\n",
    "\n",
    "cvalues  = [1, 10, 20, 30, 40, 50, 60, 70, 80, 90, 100]\n",
    "TrainingAccuracy = []\n",
    "TestAccuracy = []\n",
    "ValidationAccuracy = []\n",
    "print (\"---------------------------------------------------\")\n",
    "for i in cvalues:\n",
    "    svm_train_label = np.squeeze(svm_train_label)\n",
    "    clf = SVC(C=i,kernel='rbf')\n",
    "    print(\"Doing for C-Value: \",i)\n",
    "    clf.fit(svm_train_data, svm_train_label)\n",
    "    print(\"CLF Fitting Done!\")\n",
    "    print(\"Training Accuracy:   \",100*clf.score(svm_train_data, svm_train_label),\"%\")\n",
    "    print(\"Testing Accuracy:    \",100*clf.score(test_data, test_label),\"%\")\n",
    "    print(\"Validation Accuracy: \",100*clf.score(validation_data, validation_label),\"%\")\n",
    "    TrainingAccuracy.append(100*clf.score(svm_train_data, svm_train_label))\n",
    "    TestAccuracy.append(100*clf.score(test_data, test_label))\n",
    "    ValidationAccuracy.append(100*clf.score(validation_data, validation_label))\n",
    "    print (\"---------------------------------------------------\")\n",
    "\n"
   ]
  },
  {
   "cell_type": "code",
   "execution_count": 56,
   "metadata": {},
   "outputs": [
    {
     "name": "stdout",
     "output_type": "stream",
     "text": [
      "Using Radial basis function with gamma set to default and for C-Value:  50\n"
     ]
    },
    {
     "name": "stderr",
     "output_type": "stream",
     "text": [
      "/usr/local/lib/python3.7/site-packages/sklearn/svm/base.py:196: FutureWarning: The default value of gamma will change from 'auto' to 'scale' in version 0.22 to account better for unscaled features. Set gamma explicitly to 'auto' or 'scale' to avoid this warning.\n",
      "  \"avoid this warning.\", FutureWarning)\n"
     ]
    },
    {
     "name": "stdout",
     "output_type": "stream",
     "text": [
      "CLF Fitting Done!\n",
      "Training Accuracy:    99.612 %\n",
      "Testing Accuracy:     97.39999999999999 %\n",
      "Validation Accuracy:  97.41 %\n"
     ]
    }
   ],
   "source": [
    "# Final Choice of Parameters C = 50\n",
    "print(\"Using Radial basis function with gamma set to default and for C-Value: \",50)\n",
    "train_label = np.squeeze(train_label)\n",
    "clf = SVC(C=i,kernel='rbf')\n",
    "clf.fit(train_data, train_label)\n",
    "print(\"CLF Fitting Done!\")\n",
    "print(\"Training Accuracy:   \",100*clf.score(train_data, train_label),\"%\")\n",
    "print(\"Testing Accuracy:    \",100*clf.score(test_data, test_label),\"%\")\n",
    "print(\"Validation Accuracy: \",100*clf.score(validation_data, validation_label),\"%\")\n",
    "TrainingAccuracy.append(100*clf.score(train_data, train_label))\n",
    "TestAccuracy.append(100*clf.score(test_data, test_label))\n",
    "ValidationAccuracy.append(100*clf.score(validation_data, validation_label))"
   ]
  },
  {
   "cell_type": "code",
   "execution_count": 59,
   "metadata": {},
   "outputs": [
    {
     "data": {
      "image/png": "[encoded data removed]",
      "text/plain": [
       "<Figure size 864x432 with 1 Axes>"
      ]
     },
     "metadata": {
      "needs_background": "light"
     },
     "output_type": "display_data"
    }
   ],
   "source": [
    "accuracyMatrix = np.column_stack((TrainingAccuracy, TestAccuracy, ValidationAccuracy))\n",
    "\n",
    "fig = plt.figure(figsize=[12,6])\n",
    "plt.subplot(1, 2, 1)\n",
    "plt.plot(accuracyMatrix)\n",
    "plt.title('Accuracy with varying values of C')\n",
    "plt.legend(('Training data','Testing data', 'Validation data'), loc = 'best')\n",
    "plt.xlabel('C values')\n",
    "plt.ylabel('Accuracy in %')\n",
    "plt.show()"
   ]
  },
  {
   "cell_type": "code",
   "execution_count": 26,
   "metadata": {},
   "outputs": [],
   "source": [
    "def plotConfusionMatrix(ytrue,ypred,titlename):\n",
    "    cm= confusion_matrix(ytrue, ypred)\n",
    "    kp=np.eye(10)\n",
    "\n",
    "    cmap = mpl.colors.ListedColormap(['white', 'orange'])\n",
    "    cmapAcc = mpl.colors.ListedColormap(['orange'])\n",
    "    F = plt.figure(1, (10.5, 6.5))\n",
    "    grid = ImageGrid(F, 111,  # similar to subplot(111)\n",
    "                     nrows_ncols=(2, 2),\n",
    "                     axes_pad=0.1,\n",
    "                     share_all=False,\n",
    "                 )\n",
    "\n",
    "    arr=diag(cm)\n",
    "    \n",
    "    #im1-confusion matrix, im2-producer's accuracy, im3-user's accuracy, im4-overall accuracy\n",
    "    im1 = cm\n",
    "    im2 = np.round(100*arr[:,np.newaxis]/cm.sum(1)[:,np.newaxis],2)\n",
    "    im3 = np.round(100*arr[np.newaxis,:]/cm.sum(0)[np.newaxis,:],2)\n",
    "    im4 = np.round(100*(arr.sum()/cm.sum()),2)[np.newaxis][:,np.newaxis]\n",
    "\n",
    "    #map confusion matrix\n",
    "    ax = grid[0]\n",
    "    ax.imshow(kp,cmap)\n",
    "    for i in range(im1.shape[0]):\n",
    "        for j in range(im1.shape[1]):\n",
    "            text = ax.text(j, i, im1[i, j], ha=\"center\", va=\"center\", color=\"black\")\n",
    "    \n",
    "    ax.set_title(titlename,fontsize=20)\n",
    "    ax.set_ylabel(\"True label\",fontsize=15)\n",
    "    ax.set_yticks(range(10))\n",
    "\n",
    "    #map producer's accuracy\n",
    "    ax = grid[1]\n",
    "    ax.imshow(im2,cmapAcc)\n",
    "    for i in range(im2.shape[0]):\n",
    "        text = ax.text(0, i, im2[i][0],ha=\"center\", va=\"center\", color=\"black\")\n",
    "    \n",
    "    #map user's accuracy\n",
    "    ax = grid[2]\n",
    "    ax.imshow(im3,cmapAcc)\n",
    "    for i in range(im3.shape[1]):\n",
    "        text = ax.text(i, 0, im3[0][i], ha=\"center\", va=\"center\", color=\"black\")\n",
    "   \n",
    "    ax.set_xticks(range(10))\n",
    "    ax.set_yticklabels([])\n",
    "    ax.set_xlabel(\"Predicted label\",fontsize=15)\n",
    "    \n",
    "    #map overall accuracy\n",
    "    ax = grid[3]\n",
    "    #ax.axis('off')\n",
    "    ax.imshow(im4,cmapAcc)\n",
    "    text = ax.text(0, 0, im4[0][0], ha=\"center\", va=\"center\", color=\"black\")\n",
    "    ax.set_xticklabels([])\n",
    "    \n",
    " #   grid.axes_llc.set_xlabel('Predicted class')\n"
   ]
  },
  {
   "cell_type": "code",
   "execution_count": 9,
   "metadata": {},
   "outputs": [
    {
     "ename": "NameError",
     "evalue": "name 'W' is not defined",
     "output_type": "error",
     "traceback": [
      "\u001b[0;31m---------------------------------------------------------------------------\u001b[0m",
      "\u001b[0;31mNameError\u001b[0m                                 Traceback (most recent call last)",
      "\u001b[0;32m<ipython-input-9-b06ef7fc3f89>\u001b[0m in \u001b[0;36m<module>\u001b[0;34m\u001b[0m\n\u001b[1;32m      3\u001b[0m \u001b[0;34m\u001b[0m\u001b[0m\n\u001b[1;32m      4\u001b[0m \u001b[0;31m# Find the accuracy on Training Dataset\u001b[0m\u001b[0;34m\u001b[0m\u001b[0;34m\u001b[0m\u001b[0;34m\u001b[0m\u001b[0m\n\u001b[0;32m----> 5\u001b[0;31m \u001b[0mpredicted_label\u001b[0m \u001b[0;34m=\u001b[0m \u001b[0mblrPredict\u001b[0m\u001b[0;34m(\u001b[0m\u001b[0mW\u001b[0m\u001b[0;34m,\u001b[0m \u001b[0mtrain_data\u001b[0m\u001b[0;34m)\u001b[0m\u001b[0;34m\u001b[0m\u001b[0;34m\u001b[0m\u001b[0m\n\u001b[0m\u001b[1;32m      6\u001b[0m \u001b[0mplotConfusionMatrix\u001b[0m\u001b[0;34m(\u001b[0m\u001b[0mtrain_label\u001b[0m\u001b[0;34m,\u001b[0m\u001b[0mpredicted_label\u001b[0m\u001b[0;34m,\u001b[0m\u001b[0;34m\"Confusion Matrix of Training Data\"\u001b[0m\u001b[0;34m)\u001b[0m\u001b[0;34m\u001b[0m\u001b[0;34m\u001b[0m\u001b[0m\n\u001b[1;32m      7\u001b[0m \u001b[0;34m\u001b[0m\u001b[0m\n",
      "\u001b[0;31mNameError\u001b[0m: name 'W' is not defined"
     ]
    }
   ],
   "source": [
    "# In[60]:\n",
    "\n"
   ]
  },
  {
   "cell_type": "code",
   "execution_count": null,
   "metadata": {},
   "outputs": [],
   "source": []
  }
 ],
 "metadata": {
  "kernelspec": {
   "display_name": "Python 3",
   "language": "python",
   "name": "python3"
  },
  "language_info": {
   "codemirror_mode": {
    "name": "ipython",
    "version": 3
   },
   "file_extension": ".py",
   "mimetype": "text/x-python",
   "name": "python",
   "nbconvert_exporter": "python",
   "pygments_lexer": "ipython3",
   "version": "3.7.1"
  }
 },
 "nbformat": 4,
 "nbformat_minor": 2
}
